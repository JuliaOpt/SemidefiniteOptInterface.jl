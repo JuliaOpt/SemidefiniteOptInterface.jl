{
 "cells": [
  {
   "cell_type": "code",
   "execution_count": null,
   "metadata": {},
   "outputs": [],
   "source": [
    "using SemidefiniteOptInterface\n",
    "const SDOI = SemidefiniteOptInterface\n",
    "\n",
    "using Test\n",
    "\n",
    "using MathOptInterface\n",
    "const MOI = MathOptInterface\n",
    "const MOIT = MOI.Test\n",
    "const MOIB = MOI.Bridges\n",
    "const MOIU = MOI.Utilities"
   ]
  },
  {
   "cell_type": "markdown",
   "metadata": {},
   "source": [
    "We hack the `optimize!` call of CSDP to print the `mock_optimize!` function to be used in the tests for the mock_optimizer.\n",
    "The output still needs to be edited and replaced by the exact solution but this is a good start"
   ]
  },
  {
   "cell_type": "code",
   "execution_count": null,
   "metadata": {
    "collapsed": true
   },
   "outputs": [],
   "source": [
    "const MOIU = MOI.Utilities\n",
    "MOIU.@model(SDModelData,\n",
    "    (), (MOI.EqualTo, MOI.GreaterThan, MOI.LessThan),\n",
    "    (MOI.Zeros, MOI.Nonnegatives, MOI.Nonpositives, MOI.PositiveSemidefiniteConeTriangle), (),\n",
    "    (), (MOI.ScalarAffineFunction,),\n",
    "    (MOI.VectorOfVariables,), ())"
   ]
  },
  {
   "cell_type": "code",
   "execution_count": null,
   "metadata": {},
   "outputs": [],
   "source": [
    "import CSDP\n",
    "optimizer = CSDP.Optimizer(printlevel=0)\n",
    "\n",
    "cache = MOIU.UniversalFallback(SDModelData{Float64}())\n",
    "cached = MOIU.CachingOptimizer(cache, optimizer)\n",
    "bridged = MOIB.full_bridge_optimizer(cached, Float64)\n",
    "\n",
    "config = MOIT.TestConfig(atol=1e-4, rtol=1e-4)"
   ]
  },
  {
   "cell_type": "code",
   "execution_count": null,
   "metadata": {
    "collapsed": true
   },
   "outputs": [],
   "source": [
    "function MOI.optimize!(m::SDOI.SOItoMOIBridge)\n",
    "    MOI.optimize!(m.sdoptimizer)\n",
    "    X = SDOI.getX(m.sdoptimizer)\n",
    "    println(\"MOIU.set_mock_optimize!(mock, (mock) -> MOIU.mock_optimize!(mock,\")\n",
    "    print(  \"                                                            \")\n",
    "    if MOI.get(m, MOI.DualStatus()) == MOI.INFEASIBILITY_CERTIFICATE\n",
    "        print(\"tuple()\")\n",
    "    else\n",
    "        if MOI.get(m, MOI.PrimalStatus()) == MOI.INFEASIBILITY_CERTIFICATE\n",
    "            print(\"(MOI.InfeasibilityCertificate, \")\n",
    "        end\n",
    "        print(  \"[\")\n",
    "        for (blk, dim) in enumerate(m.blockdims)\n",
    "            if blk > 1\n",
    "                print(\", \")\n",
    "            end\n",
    "            #print(round.(SDOI.block(X, blk), 4))\n",
    "            print(SDOI.block(X, blk))\n",
    "        end\n",
    "        print(\"]\")\n",
    "        if MOI.get(m, MOI.PrimalStatus()) == MOI.INFEASIBILITY_CERTIFICATE\n",
    "            print(\")\")\n",
    "        end\n",
    "    end\n",
    "    if MOI.get(m, MOI.PrimalStatus()) != MOI.INFEASIBILITY_CERTIFICATE\n",
    "        println(\",\")\n",
    "        print(  \"                                                            \")\n",
    "        #print(round.(SDOI.gety(m.sdoptimizer), 4))\n",
    "        print(SDOI.gety(m.sdoptimizer))\n",
    "    end\n",
    "    println(\"))\")\n",
    "end"
   ]
  },
  {
   "cell_type": "code",
   "execution_count": null,
   "metadata": {},
   "outputs": [],
   "source": [
    "function generate_mock_test(testfun)\n",
    "    testfun(bridged, config)\n",
    "    testcall = replace(string(testfun), \"MathOptInterface.Test\" => \"MOIT\")\n",
    "    println(\"$testcall(bridged, config)\")\n",
    "end"
   ]
  },
  {
   "cell_type": "code",
   "execution_count": null,
   "metadata": {},
   "outputs": [],
   "source": [
    "generate_mock_test(MOIT.geomean1vtest)"
   ]
  },
  {
   "cell_type": "code",
   "execution_count": null,
   "metadata": {
    "collapsed": true
   },
   "outputs": [],
   "source": [
    "for testfun in map(p -> p.second, sort(collect(MOIT.lintests), by=p->p.first))\n",
    "    generate_mock_test(testfun)\n",
    "end"
   ]
  },
  {
   "cell_type": "code",
   "execution_count": null,
   "metadata": {
    "collapsed": true
   },
   "outputs": [],
   "source": []
  },
  {
   "cell_type": "code",
   "execution_count": null,
   "metadata": {
    "collapsed": true
   },
   "outputs": [],
   "source": [
    "mock = SDOI.MockSDOptimizer{Float64}()\n",
    "mock_optimizer = SDOI.SDOIOptimizer(mock, Float64)\n",
    "cached = MOIU.CachingOptimizer(SDModelData{Float64}(), mock_optimizer)\n",
    "bridged = MOIB.full_bridge_optimizer(cached, Float64)\n",
    "config = MOIT.TestConfig(atol=1e-4, rtol=1e-4)"
   ]
  }
 ],
 "metadata": {
  "kernelspec": {
   "display_name": "Julia 1.1.0",
   "language": "julia",
   "name": "julia-1.1"
  },
  "language_info": {
   "file_extension": ".jl",
   "mimetype": "application/julia",
   "name": "julia",
   "version": "1.1.1"
  }
 },
 "nbformat": 4,
 "nbformat_minor": 2
}
